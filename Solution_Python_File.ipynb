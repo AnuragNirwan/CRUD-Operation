{
 "cells": [
  {
   "cell_type": "code",
   "execution_count": 114,
   "id": "e576ba8d-2a89-49db-94df-f461e6180d8c",
   "metadata": {},
   "outputs": [],
   "source": [
    "import os\n",
    "import pandas as pd\n",
    "import json\n",
    "import csv\n",
    "import pprint\n",
    "import glob"
   ]
  },
  {
   "cell_type": "code",
   "execution_count": 115,
   "id": "b20253ac-1b11-424a-97b3-f0fb4e7628b3",
   "metadata": {},
   "outputs": [],
   "source": [
    "def load_csv(path): \n",
    "    sales_data = {}\n",
    "    with open(path) as csv_file:\n",
    "        reader = csv.reader(csv_file, delimiter=',')\n",
    "        next(reader, None)\n",
    "        for row in reader:\n",
    "            key = None\n",
    "            for i in range(len(row)):\n",
    "                if i==0:\n",
    "                    key = row[i]\n",
    "                    sales_data[row[i]] = []\n",
    "                else:\n",
    "                    sales_data[key].append(int(row[i]))\n",
    "    return sales_data\n",
    "                \n"
   ]
  },
  {
   "cell_type": "code",
   "execution_count": 116,
   "id": "92c12559-097c-43ca-a3ea-c98dcca04042",
   "metadata": {},
   "outputs": [],
   "source": [
    "def load_json(path):\n",
    "    json_file_1 = open(path)  \n",
    "    data = json.load(json_file_1)\n",
    "    return data"
   ]
  },
  {
   "cell_type": "code",
   "execution_count": 117,
   "id": "3a5f3f53-fecc-4287-863e-104055d3e95b",
   "metadata": {},
   "outputs": [],
   "source": [
    "def load_txt(path):\n",
    "    file_1 = open(path)\n",
    "    data = file_1.read()\n",
    "    return data"
   ]
  },
  {
   "cell_type": "code",
   "execution_count": 118,
   "id": "e3d52a67-c213-4959-a518-5502e618165b",
   "metadata": {},
   "outputs": [],
   "source": [
    "def load_file(foldername):\n",
    "    sales_data = None\n",
    "    product_details = None \n",
    "    product_description = None\n",
    "    path = r\"./main_folder_address/\"\n",
    "    if foldername == \"sales_data.csv\":\n",
    "        sales_data = load_csv(path+foldername)\n",
    "        return sales_data\n",
    "    elif foldername == \"product_details\":\n",
    "        files = os.listdir(path+ foldername)\n",
    "        Product_Details = {}\n",
    "        for i in files:\n",
    "            product_details = load_json(path + foldername+\"/\" + i)\n",
    "            id = i.split(\".\")[0].split(\"_\")[1]  # Assuming filenames don't start with \"product_details\"\n",
    "            Product_Details[id] = product_details\n",
    "        return Product_Details\n",
    "    elif foldername == \"product_description\":\n",
    "        files = os.listdir(path+ foldername )\n",
    "        description_data = {}\n",
    "        for i in files:\n",
    "            data = load_txt(path +  foldername+\"/\" + i)\n",
    "            id  = i.split(\".\")[0].split(\"_\")[1]\n",
    "            description_data[id]= data\n",
    "        return description_data\n",
    "        "
   ]
  },
  {
   "cell_type": "code",
   "execution_count": 119,
   "id": "a6083354-258c-4bf5-b17d-c50ab675c9a6",
   "metadata": {},
   "outputs": [
    {
     "name": "stdout",
     "output_type": "stream",
     "text": [
      "Sales Data:\n"
     ]
    },
    {
     "data": {
      "text/plain": [
       "{'AISJDKFJW93NJ': [10, 12, 15, 18, 20, 22, 25, 28, 26, 30, 32, 29, 27, 24],\n",
       " 'DJKFIEI432FIE': [8, 10, 12, 15, 20, 18, 14, 13, 17, 10, 8, 11, 14, 16],\n",
       " 'GGOENEBJ079499': [15, 18, 22, 25, 28, 20, 17, 23, 19, 21, 24, 27, 18, 20],\n",
       " 'HJSKNWK429DJE': [30, 32, 35, 38, 40, 42, 45, 48, 50, 52, 55, 53, 49, 47],\n",
       " 'JFKL3940NFKLJ': [18, 20, 22, 25, 28, 30, 32, 35, 38, 36, 33, 29, 26, 24],\n",
       " 'LKDFJ49LSDJKL': [25, 28, 30, 32, 35, 38, 42, 40, 37, 34, 36, 31, 29, 27],\n",
       " 'MWKDI3JFK39SL': [30, 35, 40, 45, 50, 42, 37, 38, 41, 36, 33, 39, 40, 44],\n",
       " 'NEKFJOWE9FDIW': [12, 15, 18, 20, 22, 24, 21, 23, 25, 28, 30, 27, 26, 29],\n",
       " 'OWEJL398FWJLK': [20, 22, 25, 28, 30, 32, 35, 38, 36, 33, 29, 26, 24, 27],\n",
       " 'XPLFJW2490XJN': [5, 8, 9, 12, 15, 10, 14, 16, 20, 18, 22, 25, 19, 21]}"
      ]
     },
     "execution_count": 119,
     "metadata": {},
     "output_type": "execute_result"
    }
   ],
   "source": [
    "print(\"Sales Data:\")\n",
    "sales_data = load_file(\"sales_data.csv\")\n",
    "sales_data"
   ]
  },
  {
   "cell_type": "code",
   "execution_count": 120,
   "id": "b6d73ee5-5945-47da-9484-d48bb53df0be",
   "metadata": {},
   "outputs": [
    {
     "name": "stdout",
     "output_type": "stream",
     "text": [
      "Product Details:\n"
     ]
    },
    {
     "data": {
      "text/plain": [
       "{'AISJDKFJW93NJ': {'product_name': 'Wall Art Print',\n",
       "  'brand': 'ArtCraft',\n",
       "  'model': 'NatureCanvas-1001',\n",
       "  'specifications': 'Canvas print, Ready to hang',\n",
       "  'price': '$49.99',\n",
       "  'availability': 'In stock'},\n",
       " 'DJKFIEI432FIE': {'product_name': \"Men's Running Shoes\",\n",
       "  'brand': 'RunFit',\n",
       "  'model': 'SpeedX-500',\n",
       "  'specifications': 'Size 10, Lightweight design, Breathable material',\n",
       "  'price': '$79.99',\n",
       "  'availability': 'In stock'},\n",
       " 'GGOENEBJ079499': {'product_name': 'Smartphone',\n",
       "  'brand': 'XYZ Electronics',\n",
       "  'model': 'ABC-2000',\n",
       "  'specifications': '6.5-inch display, 128GB storage, 16MP camera',\n",
       "  'price': '$499.99',\n",
       "  'availability': 'In stock'},\n",
       " 'HJSKNWK429DJE': {'product_name': 'Wireless Earbuds',\n",
       "  'brand': 'SoundSync',\n",
       "  'model': 'TunePro-2022',\n",
       "  'specifications': 'Bluetooth 5.0, 20 hours battery life, Touch controls',\n",
       "  'price': '$89.99',\n",
       "  'availability': 'In stock'},\n",
       " 'JFKL3940NFKLJ': {'product_name': 'Resistance Bands Set',\n",
       "  'brand': 'FitFlex',\n",
       "  'model': 'StrengthPro-300',\n",
       "  'specifications': '5 bands, Varying resistance levels, Portable',\n",
       "  'price': '$34.99',\n",
       "  'availability': 'In stock'},\n",
       " 'LKDFJ49LSDJKL': {'product_name': 'Anti-Aging Face Cream',\n",
       "  'brand': 'GlowBeauty',\n",
       "  'model': 'AgeDefy-300',\n",
       "  'specifications': 'Natural ingredients, Hydrating formula',\n",
       "  'price': '$39.99',\n",
       "  'availability': 'In stock'},\n",
       " 'MWKDI3JFK39SL': {'product_name': 'Fictional Novel',\n",
       "  'brand': 'BestBooks',\n",
       "  'model': None,\n",
       "  'specifications': 'Paperback, 300 pages',\n",
       "  'price': '$14.99',\n",
       "  'availability': 'In stock'},\n",
       " 'NEKFJOWE9FDIW': {'product_name': 'Board Game',\n",
       "  'brand': 'FamilyFun',\n",
       "  'model': 'GameNight-2022',\n",
       "  'specifications': '2-6 players, Ages 8 and up',\n",
       "  'price': '$29.99',\n",
       "  'availability': 'In stock'},\n",
       " 'OWEJL398FWJLK': {'product_name': 'Yoga Mat',\n",
       "  'brand': 'ZenFitness',\n",
       "  'model': 'EcoMat-500',\n",
       "  'specifications': 'Non-slip, 6mm thickness, Eco-friendly material',\n",
       "  'price': '$19.99',\n",
       "  'availability': 'In stock'},\n",
       " 'XPLFJW2490XJN': {'product_name': 'Robot Vacuum Cleaner',\n",
       "  'brand': 'CleanTech',\n",
       "  'model': 'AutoSweep-9000',\n",
       "  'specifications': 'Smart navigation, HEPA filter, 90 minutes runtime',\n",
       "  'price': '$249.99',\n",
       "  'availability': 'In stock'}}"
      ]
     },
     "execution_count": 120,
     "metadata": {},
     "output_type": "execute_result"
    }
   ],
   "source": [
    "print(\"Product Details:\")\n",
    "product_details = load_file(\"product_details\")\n",
    "product_details"
   ]
  },
  {
   "cell_type": "code",
   "execution_count": 121,
   "id": "a3bfeb4e-0278-432c-b4ec-338f3858a721",
   "metadata": {},
   "outputs": [
    {
     "name": "stdout",
     "output_type": "stream",
     "text": [
      "Product Description:\n"
     ]
    },
    {
     "data": {
      "text/plain": [
       "{'AISJDKFJW93NJ': \"Transform your living space with ArtCraft's NatureCanvas-1001 Wall Art Print.\\nThis canvas print, ready to hang, brings the beauty of nature into your home.\\nWith dimensions of 16 x 20 inches and a 4.6/5 stars rating, it's a stunning addition to your decor, creating a focal point that captures attention and sparks conversation.\",\n",
       " 'DJKFIEI432FIE': \"Elevate your running experience with the RunFit SpeedX-500 Men's Running Shoes.\\nDesigned for performance, these shoes feature a lightweight design, breathable material, and are available in vibrant Red, Blue, and classic Black.\\nWhether you're a seasoned runner or just starting, these shoes provide comfort and support for every stride, ensuring you reach new milestones effortlessly.\",\n",
       " 'GGOENEBJ079499': 'Dive into the future with the XYZ Electronics Smartphone, model ABC-2000.\\nBoasting a 6.5-inch display, 128GB storage, and a 16MP camera, this powerful device redefines the smartphone experience.\\nWith a sleek design and available in Black, Silver, and Blue, it combines cutting-edge technology with style, ensuring you stay connected in the most sophisticated way possible.',\n",
       " 'HJSKNWK429DJE': \"Immerse yourself in superior audio quality with SoundSync's TunePro-2022 Wireless Earbuds.\\nFeaturing Bluetooth 5.0, 20 hours of battery life, and touch controls, these earbuds deliver a seamless and immersive listening experience.\\nAvailable in Black and White, they combine style with functionality for music lovers on the go. \\nWith a 4.7/5 stars rating, they stand out as a top choice in the realm of wireless audio.\",\n",
       " 'JFKL3940NFKLJ': \"Embrace versatility in your workouts with FitFlex's StrengthPro-300 Resistance Bands Set.\\nWith 5 bands offering varying resistance levels and portability, this set is your go-to for effective strength training.\\nAvailable in Red, Yellow, and Blue, it caters to different fitness levels and adds a dynamic dimension to your exercise routine.\",\n",
       " 'LKDFJ49LSDJKL': \"Rediscover youthful radiance with GlowBeauty's AgeDefy-300 Anti-Aging Face Cream.\\nFormulated with natural ingredients and a hydrating formula, this skincare essential rejuvenates and nourishes your skin, leaving you with a vibrant and refreshed complexion.\\nWith a stellar 4.7/5 stars rating, it's a must-have for those embracing the journey to ageless beauty.\",\n",
       " 'MWKDI3JFK39SL': \"Immerse yourself in the world of storytelling with BestBooks' Fictional Novel.\\nThis paperback, spanning 300 pages, promises a captivating journey through the pages of an engaging narrative.\\nIdeal for avid readers seeking an escape, this novel, with a 4.6/5 stars rating, is a testament to its ability to weave a compelling tale that keeps you hooked until the last page.\",\n",
       " 'NEKFJOWE9FDIW': \"Unleash the fun with FamilyFun's GameNight-2022 Board Game.\\nDesigned for 2-6 players and suitable for ages 8 and up, this exciting game promises laughter and bonding moments for the entire family.\\nWith a 4.4/5 stars rating, it's a testament to its ability to turn any ordinary night into an extraordinary game night filled with friendly competition and shared joy.\",\n",
       " 'OWEJL398FWJLK': \"Elevate your yoga practice with ZenFitness' EcoMat-500 Yoga Mat.\\nFeaturing a non-slip surface, 6mm thickness, and eco-friendly materials, this high-quality mat provides the perfect foundation for your workouts.\\nAvailable in Purple, Green, and Blue, it not only enhances your comfort but also adds a touch of serenity to your exercise routine.\",\n",
       " 'XPLFJW2490XJN': 'Introducing the CleanTech AutoSweep-9000 Robot Vacuum Cleaner â€“ your smart companion for automated cleaning.\\nWith smart navigation, a HEPA filter, and a runtime of 90 minutes, this efficient device takes care of your cleaning needs.\\nAvailable in White and Silver, it blends seamlessly into your home, making cleanliness a hassle-free experience.'}"
      ]
     },
     "execution_count": 121,
     "metadata": {},
     "output_type": "execute_result"
    }
   ],
   "source": [
    "print(\"Product Description:\")\n",
    "product_description = load_file(\"product_description\")\n",
    "product_description"
   ]
  },
  {
   "cell_type": "code",
   "execution_count": 122,
   "id": "82d78b6f-4710-42db-bab2-8b02b8a0cee1",
   "metadata": {},
   "outputs": [
    {
     "data": {
      "text/plain": [
       "['AISJDKFJW93NJ',\n",
       " 'DJKFIEI432FIE',\n",
       " 'GGOENEBJ079499',\n",
       " 'HJSKNWK429DJE',\n",
       " 'JFKL3940NFKLJ',\n",
       " 'LKDFJ49LSDJKL',\n",
       " 'MWKDI3JFK39SL',\n",
       " 'NEKFJOWE9FDIW',\n",
       " 'OWEJL398FWJLK',\n",
       " 'XPLFJW2490XJN']"
      ]
     },
     "execution_count": 122,
     "metadata": {},
     "output_type": "execute_result"
    }
   ],
   "source": [
    "list(sales_data.keys())"
   ]
  },
  {
   "cell_type": "code",
   "execution_count": 123,
   "id": "d4dbbb50-a45a-4bd3-bd21-f239bee4427d",
   "metadata": {},
   "outputs": [
    {
     "data": {
      "text/plain": [
       "[10, 12, 15, 18, 20, 22, 25, 28, 26, 30, 32, 29, 27, 24]"
      ]
     },
     "execution_count": 123,
     "metadata": {},
     "output_type": "execute_result"
    }
   ],
   "source": [
    "sales_data.get(\"AISJDKFJW93NJ\")"
   ]
  },
  {
   "cell_type": "code",
   "execution_count": 124,
   "id": "773829f9-5181-49ad-a6c0-7a8976081646",
   "metadata": {},
   "outputs": [
    {
     "data": {
      "text/plain": [
       "[8, 10, 12, 15, 20, 18, 14, 13, 17, 10, 8, 11, 14, 16]"
      ]
     },
     "execution_count": 124,
     "metadata": {},
     "output_type": "execute_result"
    }
   ],
   "source": [
    "sales_data.get(\"DJKFIEI432FIE\")"
   ]
  },
  {
   "cell_type": "code",
   "execution_count": 125,
   "id": "3cd68de3-1dca-48fd-ae58-1672a9e23124",
   "metadata": {},
   "outputs": [
    {
     "data": {
      "text/plain": [
       "{'product_name': 'Wall Art Print',\n",
       " 'brand': 'ArtCraft',\n",
       " 'model': 'NatureCanvas-1001',\n",
       " 'specifications': 'Canvas print, Ready to hang',\n",
       " 'price': '$49.99',\n",
       " 'availability': 'In stock'}"
      ]
     },
     "execution_count": 125,
     "metadata": {},
     "output_type": "execute_result"
    }
   ],
   "source": [
    "product_details.get(\"AISJDKFJW93NJ\")"
   ]
  },
  {
   "cell_type": "code",
   "execution_count": 126,
   "id": "c947e594-868a-41f6-8000-49c42151239f",
   "metadata": {},
   "outputs": [
    {
     "data": {
      "text/plain": [
       "{'product_name': \"Men's Running Shoes\",\n",
       " 'brand': 'RunFit',\n",
       " 'model': 'SpeedX-500',\n",
       " 'specifications': 'Size 10, Lightweight design, Breathable material',\n",
       " 'price': '$79.99',\n",
       " 'availability': 'In stock'}"
      ]
     },
     "execution_count": 126,
     "metadata": {},
     "output_type": "execute_result"
    }
   ],
   "source": [
    "product_details.get(\"DJKFIEI432FIE\")"
   ]
  },
  {
   "cell_type": "code",
   "execution_count": 127,
   "id": "aeb62505-45f1-4690-bb45-4bee98cb3202",
   "metadata": {},
   "outputs": [
    {
     "data": {
      "text/plain": [
       "\"Transform your living space with ArtCraft's NatureCanvas-1001 Wall Art Print.\\nThis canvas print, ready to hang, brings the beauty of nature into your home.\\nWith dimensions of 16 x 20 inches and a 4.6/5 stars rating, it's a stunning addition to your decor, creating a focal point that captures attention and sparks conversation.\""
      ]
     },
     "execution_count": 127,
     "metadata": {},
     "output_type": "execute_result"
    }
   ],
   "source": [
    "product_description.get(\"AISJDKFJW93NJ\")"
   ]
  },
  {
   "cell_type": "code",
   "execution_count": 128,
   "id": "d14e89c0-eeba-49e2-905f-50dbdf5faefc",
   "metadata": {},
   "outputs": [
    {
     "data": {
      "text/plain": [
       "\"Elevate your running experience with the RunFit SpeedX-500 Men's Running Shoes.\\nDesigned for performance, these shoes feature a lightweight design, breathable material, and are available in vibrant Red, Blue, and classic Black.\\nWhether you're a seasoned runner or just starting, these shoes provide comfort and support for every stride, ensuring you reach new milestones effortlessly.\""
      ]
     },
     "execution_count": 128,
     "metadata": {},
     "output_type": "execute_result"
    }
   ],
   "source": [
    "product_description.get(\"DJKFIEI432FIE\")"
   ]
  },
  {
   "cell_type": "code",
   "execution_count": 129,
   "id": "591b1a16-14db-4727-9e3e-6d99fe383050",
   "metadata": {},
   "outputs": [
    {
     "data": {
      "text/plain": [
       "10"
      ]
     },
     "execution_count": 129,
     "metadata": {},
     "output_type": "execute_result"
    }
   ],
   "source": [
    "len(sales_data)"
   ]
  },
  {
   "cell_type": "code",
   "execution_count": 130,
   "id": "387dda80-b8d0-4a3d-a146-4ad68f7b5cd4",
   "metadata": {},
   "outputs": [
    {
     "data": {
      "text/plain": [
       "10"
      ]
     },
     "execution_count": 130,
     "metadata": {},
     "output_type": "execute_result"
    }
   ],
   "source": [
    "len(product_details)"
   ]
  },
  {
   "cell_type": "code",
   "execution_count": 131,
   "id": "dd2896a4-e78a-4927-a9b1-cdc904f28305",
   "metadata": {},
   "outputs": [
    {
     "data": {
      "text/plain": [
       "10"
      ]
     },
     "execution_count": 131,
     "metadata": {},
     "output_type": "execute_result"
    }
   ],
   "source": [
    "len(product_description)"
   ]
  },
  {
   "cell_type": "code",
   "execution_count": 132,
   "id": "4e552199-ea21-4713-8818-8e19596c66a9",
   "metadata": {},
   "outputs": [],
   "source": [
    "def add_sales_data(data, sku, quantities):\n",
    "    data[sku]= quantities\n",
    "    return data"
   ]
  },
  {
   "cell_type": "code",
   "execution_count": 133,
   "id": "2bc0663a-7e25-4d72-b4e2-4c955453d637",
   "metadata": {},
   "outputs": [
    {
     "data": {
      "text/plain": [
       "{'AISJDKFJW93NJ': [10, 12, 15, 18, 20, 22, 25, 28, 26, 30, 32, 29, 27, 24],\n",
       " 'DJKFIEI432FIE': [8, 10, 12, 15, 20, 18, 14, 13, 17, 10, 8, 11, 14, 16],\n",
       " 'GGOENEBJ079499': [15, 18, 22, 25, 28, 20, 17, 23, 19, 21, 24, 27, 18, 20],\n",
       " 'HJSKNWK429DJE': [30, 32, 35, 38, 40, 42, 45, 48, 50, 52, 55, 53, 49, 47],\n",
       " 'JFKL3940NFKLJ': [18, 20, 22, 25, 28, 30, 32, 35, 38, 36, 33, 29, 26, 24],\n",
       " 'LKDFJ49LSDJKL': [25, 28, 30, 32, 35, 38, 42, 40, 37, 34, 36, 31, 29, 27],\n",
       " 'MWKDI3JFK39SL': [30, 35, 40, 45, 50, 42, 37, 38, 41, 36, 33, 39, 40, 44],\n",
       " 'NEKFJOWE9FDIW': [12, 15, 18, 20, 22, 24, 21, 23, 25, 28, 30, 27, 26, 29],\n",
       " 'OWEJL398FWJLK': [20, 22, 25, 28, 30, 32, 35, 38, 36, 33, 29, 26, 24, 27],\n",
       " 'XPLFJW2490XJN': [5, 8, 9, 12, 15, 10, 14, 16, 20, 18, 22, 25, 19, 21],\n",
       " 'CMWKCILOP27KF': [8, 14, 16, 7, 15, 21, 14, 16, 32, 29, 26, 30, 25, 22]}"
      ]
     },
     "execution_count": 133,
     "metadata": {},
     "output_type": "execute_result"
    }
   ],
   "source": [
    "quantities = [8, 14, 16, 7, 15, 21, 14, 16, 32, 29, 26, 30, 25, 22]\n",
    "sku = \"CMWKCILOP27KF\"\n",
    "sales_data = add_sales_data(sales_data, sku, quantities)\n",
    "sales_data"
   ]
  },
  {
   "cell_type": "code",
   "execution_count": 134,
   "id": "b19b762a-142d-4381-8bc7-30055a66a35f",
   "metadata": {},
   "outputs": [],
   "source": [
    "def add_product_data(data, sku, product_info):\n",
    "    data[sku]= product_info\n",
    "    return data"
   ]
  },
  {
   "cell_type": "code",
   "execution_count": 135,
   "id": "3d8cd8eb-0e20-4a57-b129-06b2d3692a4e",
   "metadata": {},
   "outputs": [
    {
     "data": {
      "text/plain": [
       "{'AISJDKFJW93NJ': {'product_name': 'Wall Art Print',\n",
       "  'brand': 'ArtCraft',\n",
       "  'model': 'NatureCanvas-1001',\n",
       "  'specifications': 'Canvas print, Ready to hang',\n",
       "  'price': '$49.99',\n",
       "  'availability': 'In stock'},\n",
       " 'DJKFIEI432FIE': {'product_name': \"Men's Running Shoes\",\n",
       "  'brand': 'RunFit',\n",
       "  'model': 'SpeedX-500',\n",
       "  'specifications': 'Size 10, Lightweight design, Breathable material',\n",
       "  'price': '$79.99',\n",
       "  'availability': 'In stock'},\n",
       " 'GGOENEBJ079499': {'product_name': 'Smartphone',\n",
       "  'brand': 'XYZ Electronics',\n",
       "  'model': 'ABC-2000',\n",
       "  'specifications': '6.5-inch display, 128GB storage, 16MP camera',\n",
       "  'price': '$499.99',\n",
       "  'availability': 'In stock'},\n",
       " 'HJSKNWK429DJE': {'product_name': 'Wireless Earbuds',\n",
       "  'brand': 'SoundSync',\n",
       "  'model': 'TunePro-2022',\n",
       "  'specifications': 'Bluetooth 5.0, 20 hours battery life, Touch controls',\n",
       "  'price': '$89.99',\n",
       "  'availability': 'In stock'},\n",
       " 'JFKL3940NFKLJ': {'product_name': 'Resistance Bands Set',\n",
       "  'brand': 'FitFlex',\n",
       "  'model': 'StrengthPro-300',\n",
       "  'specifications': '5 bands, Varying resistance levels, Portable',\n",
       "  'price': '$34.99',\n",
       "  'availability': 'In stock'},\n",
       " 'LKDFJ49LSDJKL': {'product_name': 'Anti-Aging Face Cream',\n",
       "  'brand': 'GlowBeauty',\n",
       "  'model': 'AgeDefy-300',\n",
       "  'specifications': 'Natural ingredients, Hydrating formula',\n",
       "  'price': '$39.99',\n",
       "  'availability': 'In stock'},\n",
       " 'MWKDI3JFK39SL': {'product_name': 'Fictional Novel',\n",
       "  'brand': 'BestBooks',\n",
       "  'model': None,\n",
       "  'specifications': 'Paperback, 300 pages',\n",
       "  'price': '$14.99',\n",
       "  'availability': 'In stock'},\n",
       " 'NEKFJOWE9FDIW': {'product_name': 'Board Game',\n",
       "  'brand': 'FamilyFun',\n",
       "  'model': 'GameNight-2022',\n",
       "  'specifications': '2-6 players, Ages 8 and up',\n",
       "  'price': '$29.99',\n",
       "  'availability': 'In stock'},\n",
       " 'OWEJL398FWJLK': {'product_name': 'Yoga Mat',\n",
       "  'brand': 'ZenFitness',\n",
       "  'model': 'EcoMat-500',\n",
       "  'specifications': 'Non-slip, 6mm thickness, Eco-friendly material',\n",
       "  'price': '$19.99',\n",
       "  'availability': 'In stock'},\n",
       " 'XPLFJW2490XJN': {'product_name': 'Robot Vacuum Cleaner',\n",
       "  'brand': 'CleanTech',\n",
       "  'model': 'AutoSweep-9000',\n",
       "  'specifications': 'Smart navigation, HEPA filter, 90 minutes runtime',\n",
       "  'price': '$249.99',\n",
       "  'availability': 'In stock'},\n",
       " 'CMWKCILOP27KF': {'product_name': 'Pokemon Card',\n",
       "  'brand': 'GameFreak',\n",
       "  'model': 'ScarletViolet151',\n",
       "  'specifications': 'Genuine, TCG, English',\n",
       "  'price': '$1.99',\n",
       "  'availability': 'In stock'}}"
      ]
     },
     "execution_count": 135,
     "metadata": {},
     "output_type": "execute_result"
    }
   ],
   "source": [
    "product_info = {'product_name': 'Pokemon Card',\n",
    "  'brand': 'GameFreak',\n",
    "  'model': 'ScarletViolet151',\n",
    "  'specifications': 'Genuine, TCG, English',\n",
    "  'price': '$1.99',\n",
    "  'availability': 'In stock'}\n",
    "sku = \"CMWKCILOP27KF\"\n",
    "product_details = add_product_data(product_details, sku, product_info)\n",
    "product_details"
   ]
  },
  {
   "cell_type": "code",
   "execution_count": 136,
   "id": "c353e8ae-05f1-4085-abef-71a747a05239",
   "metadata": {},
   "outputs": [],
   "source": [
    "def add_product_description(data, sku, description):\n",
    "    data[sku]= description\n",
    "    return data"
   ]
  },
  {
   "cell_type": "code",
   "execution_count": 137,
   "id": "64d0a0ba-14ba-4525-b2ac-c6f87abac518",
   "metadata": {},
   "outputs": [
    {
     "data": {
      "text/plain": [
       "{'AISJDKFJW93NJ': \"Transform your living space with ArtCraft's NatureCanvas-1001 Wall Art Print.\\nThis canvas print, ready to hang, brings the beauty of nature into your home.\\nWith dimensions of 16 x 20 inches and a 4.6/5 stars rating, it's a stunning addition to your decor, creating a focal point that captures attention and sparks conversation.\",\n",
       " 'DJKFIEI432FIE': \"Elevate your running experience with the RunFit SpeedX-500 Men's Running Shoes.\\nDesigned for performance, these shoes feature a lightweight design, breathable material, and are available in vibrant Red, Blue, and classic Black.\\nWhether you're a seasoned runner or just starting, these shoes provide comfort and support for every stride, ensuring you reach new milestones effortlessly.\",\n",
       " 'GGOENEBJ079499': 'Dive into the future with the XYZ Electronics Smartphone, model ABC-2000.\\nBoasting a 6.5-inch display, 128GB storage, and a 16MP camera, this powerful device redefines the smartphone experience.\\nWith a sleek design and available in Black, Silver, and Blue, it combines cutting-edge technology with style, ensuring you stay connected in the most sophisticated way possible.',\n",
       " 'HJSKNWK429DJE': \"Immerse yourself in superior audio quality with SoundSync's TunePro-2022 Wireless Earbuds.\\nFeaturing Bluetooth 5.0, 20 hours of battery life, and touch controls, these earbuds deliver a seamless and immersive listening experience.\\nAvailable in Black and White, they combine style with functionality for music lovers on the go. \\nWith a 4.7/5 stars rating, they stand out as a top choice in the realm of wireless audio.\",\n",
       " 'JFKL3940NFKLJ': \"Embrace versatility in your workouts with FitFlex's StrengthPro-300 Resistance Bands Set.\\nWith 5 bands offering varying resistance levels and portability, this set is your go-to for effective strength training.\\nAvailable in Red, Yellow, and Blue, it caters to different fitness levels and adds a dynamic dimension to your exercise routine.\",\n",
       " 'LKDFJ49LSDJKL': \"Rediscover youthful radiance with GlowBeauty's AgeDefy-300 Anti-Aging Face Cream.\\nFormulated with natural ingredients and a hydrating formula, this skincare essential rejuvenates and nourishes your skin, leaving you with a vibrant and refreshed complexion.\\nWith a stellar 4.7/5 stars rating, it's a must-have for those embracing the journey to ageless beauty.\",\n",
       " 'MWKDI3JFK39SL': \"Immerse yourself in the world of storytelling with BestBooks' Fictional Novel.\\nThis paperback, spanning 300 pages, promises a captivating journey through the pages of an engaging narrative.\\nIdeal for avid readers seeking an escape, this novel, with a 4.6/5 stars rating, is a testament to its ability to weave a compelling tale that keeps you hooked until the last page.\",\n",
       " 'NEKFJOWE9FDIW': \"Unleash the fun with FamilyFun's GameNight-2022 Board Game.\\nDesigned for 2-6 players and suitable for ages 8 and up, this exciting game promises laughter and bonding moments for the entire family.\\nWith a 4.4/5 stars rating, it's a testament to its ability to turn any ordinary night into an extraordinary game night filled with friendly competition and shared joy.\",\n",
       " 'OWEJL398FWJLK': \"Elevate your yoga practice with ZenFitness' EcoMat-500 Yoga Mat.\\nFeaturing a non-slip surface, 6mm thickness, and eco-friendly materials, this high-quality mat provides the perfect foundation for your workouts.\\nAvailable in Purple, Green, and Blue, it not only enhances your comfort but also adds a touch of serenity to your exercise routine.\",\n",
       " 'XPLFJW2490XJN': 'Introducing the CleanTech AutoSweep-9000 Robot Vacuum Cleaner â€“ your smart companion for automated cleaning.\\nWith smart navigation, a HEPA filter, and a runtime of 90 minutes, this efficient device takes care of your cleaning needs.\\nAvailable in White and Silver, it blends seamlessly into your home, making cleanliness a hassle-free experience.',\n",
       " 'CMWKCILOP27KF': 'Original Pokemon TCG Pikachu card'}"
      ]
     },
     "execution_count": 137,
     "metadata": {},
     "output_type": "execute_result"
    }
   ],
   "source": [
    "description = 'Original Pokemon TCG Pikachu card'\n",
    "sku = \"CMWKCILOP27KF\"\n",
    "product_description = add_product_description(product_description, sku, description)\n",
    "product_description\n"
   ]
  },
  {
   "cell_type": "code",
   "execution_count": 138,
   "id": "efb595c1-001e-4d38-a574-44253f8ee4ae",
   "metadata": {},
   "outputs": [],
   "source": [
    "def create_product(sales_data, product_details,product_description):\n",
    "    product_sku = input(\"Enter the product SKU:\")\n",
    "    quantities = input(\"Enter sales data for the last 14 days, separated by space:\")\n",
    "    quantities = [int(i) for i in quantities.split(\" \")]\n",
    "    product_name = input(\"Enter the product name:\")\n",
    "    brand = input(\"Enter the brand:\")\n",
    "    model = input(\"Enter the model:\")\n",
    "    spec = input(\"Enter the specifications:\")\n",
    "    price = input(\"Enter the price:\")\n",
    "    availability = input(\"Enter the availability:\")\n",
    "    description = input(\"Enter the product description:\")\n",
    "    if len(product_sku) != 13: \n",
    "        print(\"error\")\n",
    "        return \n",
    "    if len(quantities) != 14: \n",
    "        print(\"error\")\n",
    "        return \n",
    "    \n",
    "    product_info = {'product_name': product_name,\n",
    "  'brand': brand,\n",
    "  'model': model,\n",
    "  'specifications': spec,\n",
    "  'price': price,\n",
    "  'availability': availability}\n",
    "    sales_data[product_sku] = quantities\n",
    "    product_details[product_sku] =product_info\n",
    "    product_description[product_sku] = description\n",
    "    print(\"All product information for the new product was added successfully!\")\n",
    "    return sales_data, product_details, product_description\n",
    "    \n"
   ]
  },
  {
   "cell_type": "code",
   "execution_count": 139,
   "id": "ddaf8da4-6a46-4cd5-a214-744b17e69f2e",
   "metadata": {},
   "outputs": [
    {
     "name": "stdin",
     "output_type": "stream",
     "text": [
      "Enter the product SKU: CMWKCILOP27KJ\n",
      "Enter sales data for the last 14 days, separated by space: 1 2 3 4 5 6 7 1 2 3 4 5 6 7\n",
      "Enter the product name: Pokemon Card Raichu\n",
      "Enter the brand: Pokemon\n",
      "Enter the model: GameFreak\n",
      "Enter the specifications: Nice card\n",
      "Enter the price: $2\n",
      "Enter the availability: Yes\n",
      "Enter the product description: Nice Raichu card\n"
     ]
    },
    {
     "name": "stdout",
     "output_type": "stream",
     "text": [
      "All product information for the new product was added successfully!\n"
     ]
    }
   ],
   "source": [
    "sales_data, product_details, product_description = create_product(sales_data, product_details,product_description)"
   ]
  },
  {
   "cell_type": "code",
   "execution_count": 141,
   "id": "3f25b862-fb43-43f9-9ac3-3816417dac34",
   "metadata": {},
   "outputs": [],
   "source": [
    "def display_sales_data(sales_data, sku):\n",
    "    if sku in sales_data:\n",
    "        \n",
    "        return sales_data[sku]\n",
    "    return None"
   ]
  },
  {
   "cell_type": "code",
   "execution_count": 143,
   "id": "0ae578c4-68d1-4378-b615-d5da03bcbba3",
   "metadata": {},
   "outputs": [
    {
     "name": "stdout",
     "output_type": "stream",
     "text": [
      "Sales data for SKU CMWKCILOP27KF\n"
     ]
    },
    {
     "data": {
      "text/plain": [
       "[1, 2, 3, 4, 5, 6, 7, 1, 2, 3, 4, 5, 6, 7]"
      ]
     },
     "execution_count": 143,
     "metadata": {},
     "output_type": "execute_result"
    }
   ],
   "source": [
    "print(\"Sales data for SKU \"+sku)\n",
    "display_sales_data(sales_data, \"CMWKCILOP27KJ\")"
   ]
  },
  {
   "cell_type": "code",
   "execution_count": 144,
   "id": "635ceb55-0b42-4406-90f2-a3a6b0985068",
   "metadata": {},
   "outputs": [],
   "source": [
    "def display_product_details(product_details, sku):\n",
    "    if sku in product_details:\n",
    "        \n",
    "        return product_details[sku]\n",
    "    return None"
   ]
  },
  {
   "cell_type": "code",
   "execution_count": 145,
   "id": "0287e09c-dda6-4a91-9656-a3a4535822fb",
   "metadata": {},
   "outputs": [
    {
     "name": "stdout",
     "output_type": "stream",
     "text": [
      "Product details for SKU CMWKCILOP27KF\n"
     ]
    },
    {
     "data": {
      "text/plain": [
       "{'product_name': 'Pokemon Card Raichu',\n",
       " 'brand': 'Pokemon',\n",
       " 'model': 'GameFreak',\n",
       " 'specifications': 'Nice card',\n",
       " 'price': '$2',\n",
       " 'availability': 'Yes'}"
      ]
     },
     "execution_count": 145,
     "metadata": {},
     "output_type": "execute_result"
    }
   ],
   "source": [
    "print(\"Product details for SKU \"+sku)\n",
    "display_product_details(product_details,\"CMWKCILOP27KJ\")"
   ]
  },
  {
   "cell_type": "code",
   "execution_count": 146,
   "id": "121ce9f3-092d-4c4a-bb0a-faa5d0bcc41b",
   "metadata": {},
   "outputs": [],
   "source": [
    "def display_product_descriptions(product_descriptions, sku):\n",
    "    if sku in product_descriptions:\n",
    "        \n",
    "        return product_descriptions[sku]\n",
    "    return None"
   ]
  },
  {
   "cell_type": "code",
   "execution_count": 147,
   "id": "b2a6caef-1529-4bfc-9770-2b346a9bb736",
   "metadata": {},
   "outputs": [
    {
     "name": "stdout",
     "output_type": "stream",
     "text": [
      "Product description for SKU CMWKCILOP27KF\n"
     ]
    },
    {
     "data": {
      "text/plain": [
       "'Nice Raichu card'"
      ]
     },
     "execution_count": 147,
     "metadata": {},
     "output_type": "execute_result"
    }
   ],
   "source": [
    "print(\"Product description for SKU \"+sku)\n",
    "display_product_descriptions(product_description,\"CMWKCILOP27KJ\")"
   ]
  },
  {
   "cell_type": "code",
   "execution_count": 148,
   "id": "f23cea3b-59ea-4374-9e11-ddb13352c560",
   "metadata": {},
   "outputs": [],
   "source": [
    "def read(product_details, sales_data, product_description):\n",
    "    sku = input(\"Enter the product SKU: \")\n",
    "    if display_sales_data(sales_data, sku)!= None:\n",
    "        pprint.pprint(display_sales_data(sales_data, sku))\n",
    "    else:\n",
    "        pprint.pprint(\"sku does not exist\")\n",
    "    if display_product_details(product_details, sku)!= None:\n",
    "        pprint.pprint(display_product_details(product_details, sku))\n",
    "    else:\n",
    "        pprint.pprint(\"sku does not exist\")\n",
    "    if display_product_descriptions(product_description, sku)!= None:\n",
    "        pprint.pprint(display_product_descriptions(product_description, sku))\n",
    "    else:\n",
    "        pprint.pprint(\"sku does not exist\")"
   ]
  },
  {
   "cell_type": "code",
   "execution_count": 149,
   "id": "abe17921-5bd0-40c2-845f-75de0c20ac24",
   "metadata": {},
   "outputs": [
    {
     "name": "stdin",
     "output_type": "stream",
     "text": [
      "Enter the product SKU:  CMWKCILOP27KJ\n"
     ]
    },
    {
     "name": "stdout",
     "output_type": "stream",
     "text": [
      "[1, 2, 3, 4, 5, 6, 7, 1, 2, 3, 4, 5, 6, 7]\n",
      "{'availability': 'Yes',\n",
      " 'brand': 'Pokemon',\n",
      " 'model': 'GameFreak',\n",
      " 'price': '$2',\n",
      " 'product_name': 'Pokemon Card Raichu',\n",
      " 'specifications': 'Nice card'}\n",
      "'Nice Raichu card'\n"
     ]
    }
   ],
   "source": [
    "read(product_details, sales_data, product_description)"
   ]
  },
  {
   "cell_type": "code",
   "execution_count": 150,
   "id": "f0e6dc66-defc-4663-aec6-df4a36c7e822",
   "metadata": {},
   "outputs": [],
   "source": [
    "def update_sales_data(sales_data, sku, quantities):\n",
    "    if sku in sales_data.keys():\n",
    "        sales_data[sku] = quantities\n",
    "        return sales_data\n",
    "    else:\n",
    "        pprint.pprint(\"sku does not exist\")\n",
    "        return None"
   ]
  },
  {
   "cell_type": "code",
   "execution_count": 151,
   "id": "e978429b-ec84-4c13-9134-f04f1b00af51",
   "metadata": {},
   "outputs": [
    {
     "data": {
      "text/plain": [
       "{'AISJDKFJW93NJ': [10, 12, 15, 18, 20, 22, 25, 28, 26, 30, 32, 29, 27, 24],\n",
       " 'DJKFIEI432FIE': [8, 10, 12, 15, 20, 18, 14, 13, 17, 10, 8, 11, 14, 16],\n",
       " 'GGOENEBJ079499': [15, 18, 22, 25, 28, 20, 17, 23, 19, 21, 24, 27, 18, 20],\n",
       " 'HJSKNWK429DJE': [30, 32, 35, 38, 40, 42, 45, 48, 50, 52, 55, 53, 49, 47],\n",
       " 'JFKL3940NFKLJ': [18, 20, 22, 25, 28, 30, 32, 35, 38, 36, 33, 29, 26, 24],\n",
       " 'LKDFJ49LSDJKL': [25, 28, 30, 32, 35, 38, 42, 40, 37, 34, 36, 31, 29, 27],\n",
       " 'MWKDI3JFK39SL': [30, 35, 40, 45, 50, 42, 37, 38, 41, 36, 33, 39, 40, 44],\n",
       " 'NEKFJOWE9FDIW': [12, 15, 18, 20, 22, 24, 21, 23, 25, 28, 30, 27, 26, 29],\n",
       " 'OWEJL398FWJLK': [20, 22, 25, 28, 30, 32, 35, 38, 36, 33, 29, 26, 24, 27],\n",
       " 'XPLFJW2490XJN': [5, 8, 9, 12, 15, 10, 14, 16, 20, 18, 22, 25, 19, 21],\n",
       " 'CMWKCILOP27KF': [8, 14, 16, 7, 15, 21, 14, 16, 32, 29, 26, 30, 25, 22],\n",
       " 'CMWKCILOP27KJ': [1, 2, 3, 4, 5, 6, 7, 7, 6, 5, 4, 3, 2, 1]}"
      ]
     },
     "execution_count": 151,
     "metadata": {},
     "output_type": "execute_result"
    }
   ],
   "source": [
    "quantities = [1, 2, 3, 4, 5, 6, 7, 7, 6, 5, 4, 3, 2, 1]\n",
    "sku = \"CMWKCILOP27KJ\"\n",
    "update_sales_data(sales_data, sku, quantities)"
   ]
  },
  {
   "cell_type": "code",
   "execution_count": 152,
   "id": "49e35c98-d4b6-4755-a30e-32d4c4e95585",
   "metadata": {},
   "outputs": [],
   "source": [
    "def update_product_details(product_details, sku, updated_details):\n",
    "    if sku in product_details.keys():\n",
    "        product_details[sku] = updated_details\n",
    "        return product_details\n",
    "    else:\n",
    "        pprint.pprint(\"sku does not exist\")\n",
    "        return None"
   ]
  },
  {
   "cell_type": "code",
   "execution_count": 153,
   "id": "762d8a7d-108e-4fdb-969f-66fc95b6cbec",
   "metadata": {},
   "outputs": [
    {
     "data": {
      "text/plain": [
       "{'AISJDKFJW93NJ': {'product_name': 'Wall Art Print',\n",
       "  'brand': 'ArtCraft',\n",
       "  'model': 'NatureCanvas-1001',\n",
       "  'specifications': 'Canvas print, Ready to hang',\n",
       "  'price': '$49.99',\n",
       "  'availability': 'In stock'},\n",
       " 'DJKFIEI432FIE': {'product_name': \"Men's Running Shoes\",\n",
       "  'brand': 'RunFit',\n",
       "  'model': 'SpeedX-500',\n",
       "  'specifications': 'Size 10, Lightweight design, Breathable material',\n",
       "  'price': '$79.99',\n",
       "  'availability': 'In stock'},\n",
       " 'GGOENEBJ079499': {'product_name': 'Smartphone',\n",
       "  'brand': 'XYZ Electronics',\n",
       "  'model': 'ABC-2000',\n",
       "  'specifications': '6.5-inch display, 128GB storage, 16MP camera',\n",
       "  'price': '$499.99',\n",
       "  'availability': 'In stock'},\n",
       " 'HJSKNWK429DJE': {'product_name': 'Wireless Earbuds',\n",
       "  'brand': 'SoundSync',\n",
       "  'model': 'TunePro-2022',\n",
       "  'specifications': 'Bluetooth 5.0, 20 hours battery life, Touch controls',\n",
       "  'price': '$89.99',\n",
       "  'availability': 'In stock'},\n",
       " 'JFKL3940NFKLJ': {'product_name': 'Resistance Bands Set',\n",
       "  'brand': 'FitFlex',\n",
       "  'model': 'StrengthPro-300',\n",
       "  'specifications': '5 bands, Varying resistance levels, Portable',\n",
       "  'price': '$34.99',\n",
       "  'availability': 'In stock'},\n",
       " 'LKDFJ49LSDJKL': {'product_name': 'Anti-Aging Face Cream',\n",
       "  'brand': 'GlowBeauty',\n",
       "  'model': 'AgeDefy-300',\n",
       "  'specifications': 'Natural ingredients, Hydrating formula',\n",
       "  'price': '$39.99',\n",
       "  'availability': 'In stock'},\n",
       " 'MWKDI3JFK39SL': {'product_name': 'Fictional Novel',\n",
       "  'brand': 'BestBooks',\n",
       "  'model': None,\n",
       "  'specifications': 'Paperback, 300 pages',\n",
       "  'price': '$14.99',\n",
       "  'availability': 'In stock'},\n",
       " 'NEKFJOWE9FDIW': {'product_name': 'Board Game',\n",
       "  'brand': 'FamilyFun',\n",
       "  'model': 'GameNight-2022',\n",
       "  'specifications': '2-6 players, Ages 8 and up',\n",
       "  'price': '$29.99',\n",
       "  'availability': 'In stock'},\n",
       " 'OWEJL398FWJLK': {'product_name': 'Yoga Mat',\n",
       "  'brand': 'ZenFitness',\n",
       "  'model': 'EcoMat-500',\n",
       "  'specifications': 'Non-slip, 6mm thickness, Eco-friendly material',\n",
       "  'price': '$19.99',\n",
       "  'availability': 'In stock'},\n",
       " 'XPLFJW2490XJN': {'product_name': 'Robot Vacuum Cleaner',\n",
       "  'brand': 'CleanTech',\n",
       "  'model': 'AutoSweep-9000',\n",
       "  'specifications': 'Smart navigation, HEPA filter, 90 minutes runtime',\n",
       "  'price': '$249.99',\n",
       "  'availability': 'In stock'},\n",
       " 'CMWKCILOP27KF': {'product_name': 'Pokemon Card',\n",
       "  'brand': 'GameFreak',\n",
       "  'model': 'ScarletViolet151',\n",
       "  'specifications': 'Genuine, TCG, English',\n",
       "  'price': '$1.99',\n",
       "  'availability': 'In stock'},\n",
       " 'CMWKCILOP27KJ': {'availability': 'No',\n",
       "  'brand': 'Pokemon',\n",
       "  'model': 'GameFreak',\n",
       "  'price': '$5',\n",
       "  'product_name': 'Pokemon Card Raichu',\n",
       "  'specifications': 'Nice card'}}"
      ]
     },
     "execution_count": 153,
     "metadata": {},
     "output_type": "execute_result"
    }
   ],
   "source": [
    "updated_details = {'availability': 'No',\n",
    "  'brand': 'Pokemon',\n",
    "  'model': 'GameFreak',\n",
    "  'price': '$5',\n",
    "  'product_name': 'Pokemon Card Raichu',\n",
    "  'specifications': 'Nice card'}\n",
    "sku = 'CMWKCILOP27KJ'\n",
    "update_product_details(product_details, sku, updated_details)"
   ]
  },
  {
   "cell_type": "code",
   "execution_count": 154,
   "id": "b29fc379-e08c-4a55-809e-58a6cff7be6b",
   "metadata": {},
   "outputs": [],
   "source": [
    "def update_product_description(update_product_description, sku, updated_description):\n",
    "    if sku in update_product_description.keys():\n",
    "        product_description[sku] = updated_description\n",
    "        return product_description\n",
    "    else:\n",
    "        pprint.pprint(\"sku does not exist\")\n",
    "        return None"
   ]
  },
  {
   "cell_type": "code",
   "execution_count": 155,
   "id": "3068502f-e900-4bbd-a2fb-3970c185cb29",
   "metadata": {},
   "outputs": [
    {
     "data": {
      "text/plain": [
       "{'AISJDKFJW93NJ': \"Transform your living space with ArtCraft's NatureCanvas-1001 Wall Art Print.\\nThis canvas print, ready to hang, brings the beauty of nature into your home.\\nWith dimensions of 16 x 20 inches and a 4.6/5 stars rating, it's a stunning addition to your decor, creating a focal point that captures attention and sparks conversation.\",\n",
       " 'DJKFIEI432FIE': \"Elevate your running experience with the RunFit SpeedX-500 Men's Running Shoes.\\nDesigned for performance, these shoes feature a lightweight design, breathable material, and are available in vibrant Red, Blue, and classic Black.\\nWhether you're a seasoned runner or just starting, these shoes provide comfort and support for every stride, ensuring you reach new milestones effortlessly.\",\n",
       " 'GGOENEBJ079499': 'Dive into the future with the XYZ Electronics Smartphone, model ABC-2000.\\nBoasting a 6.5-inch display, 128GB storage, and a 16MP camera, this powerful device redefines the smartphone experience.\\nWith a sleek design and available in Black, Silver, and Blue, it combines cutting-edge technology with style, ensuring you stay connected in the most sophisticated way possible.',\n",
       " 'HJSKNWK429DJE': \"Immerse yourself in superior audio quality with SoundSync's TunePro-2022 Wireless Earbuds.\\nFeaturing Bluetooth 5.0, 20 hours of battery life, and touch controls, these earbuds deliver a seamless and immersive listening experience.\\nAvailable in Black and White, they combine style with functionality for music lovers on the go. \\nWith a 4.7/5 stars rating, they stand out as a top choice in the realm of wireless audio.\",\n",
       " 'JFKL3940NFKLJ': \"Embrace versatility in your workouts with FitFlex's StrengthPro-300 Resistance Bands Set.\\nWith 5 bands offering varying resistance levels and portability, this set is your go-to for effective strength training.\\nAvailable in Red, Yellow, and Blue, it caters to different fitness levels and adds a dynamic dimension to your exercise routine.\",\n",
       " 'LKDFJ49LSDJKL': \"Rediscover youthful radiance with GlowBeauty's AgeDefy-300 Anti-Aging Face Cream.\\nFormulated with natural ingredients and a hydrating formula, this skincare essential rejuvenates and nourishes your skin, leaving you with a vibrant and refreshed complexion.\\nWith a stellar 4.7/5 stars rating, it's a must-have for those embracing the journey to ageless beauty.\",\n",
       " 'MWKDI3JFK39SL': \"Immerse yourself in the world of storytelling with BestBooks' Fictional Novel.\\nThis paperback, spanning 300 pages, promises a captivating journey through the pages of an engaging narrative.\\nIdeal for avid readers seeking an escape, this novel, with a 4.6/5 stars rating, is a testament to its ability to weave a compelling tale that keeps you hooked until the last page.\",\n",
       " 'NEKFJOWE9FDIW': \"Unleash the fun with FamilyFun's GameNight-2022 Board Game.\\nDesigned for 2-6 players and suitable for ages 8 and up, this exciting game promises laughter and bonding moments for the entire family.\\nWith a 4.4/5 stars rating, it's a testament to its ability to turn any ordinary night into an extraordinary game night filled with friendly competition and shared joy.\",\n",
       " 'OWEJL398FWJLK': \"Elevate your yoga practice with ZenFitness' EcoMat-500 Yoga Mat.\\nFeaturing a non-slip surface, 6mm thickness, and eco-friendly materials, this high-quality mat provides the perfect foundation for your workouts.\\nAvailable in Purple, Green, and Blue, it not only enhances your comfort but also adds a touch of serenity to your exercise routine.\",\n",
       " 'XPLFJW2490XJN': 'Introducing the CleanTech AutoSweep-9000 Robot Vacuum Cleaner â€“ your smart companion for automated cleaning.\\nWith smart navigation, a HEPA filter, and a runtime of 90 minutes, this efficient device takes care of your cleaning needs.\\nAvailable in White and Silver, it blends seamlessly into your home, making cleanliness a hassle-free experience.',\n",
       " 'CMWKCILOP27KF': 'Original Pokemon TCG Pikachu card',\n",
       " 'CMWKCILOP27KJ': 'Super nice card'}"
      ]
     },
     "execution_count": 155,
     "metadata": {},
     "output_type": "execute_result"
    }
   ],
   "source": [
    "sku = 'CMWKCILOP27KJ'\n",
    "updated_description = 'Super nice card'\n",
    "update_product_description(product_description, sku, updated_description)"
   ]
  },
  {
   "cell_type": "code",
   "execution_count": 160,
   "id": "40a39e09-aa50-4114-89c1-f54a9dc37ea0",
   "metadata": {},
   "outputs": [],
   "source": [
    "def update(product_details, sales_data, product_description):\n",
    "    product_sku = input(\"Enter the product SKU to update:\")\n",
    "    user_input = \"\"\"Select the data you want to update:\n",
    "1. Sales data\n",
    "2. Product details\n",
    "3. Product description\n",
    "4. Exit\"\"\"\n",
    "    \n",
    "    \n",
    "    while True:\n",
    "        print(user_input)\n",
    "        select_input = int(input(\"Enter your choice (1-4): \"))\n",
    "        if select_input == 1:         \n",
    "            quantities = input(\"Enter sales data for the last 14 days, separated by space:\")\n",
    "            quantities = [int(i) for i in quantities.split(\" \")]\n",
    "            if len(quantities) != 14: \n",
    "                print(\"error\")\n",
    "                return \n",
    "            if update_sales_data(sales_data, product_sku, quantities)!= None:\n",
    "                display_sales_data(sales_data, product_sku)\n",
    "                print(\"The sales data is updated successfully.\")\n",
    "            else:\n",
    "                pprint.pprint(\"sku does not exist\")\n",
    "        elif select_input == 2:            \n",
    "            product_name = input(\"Enter the updated product name:\")\n",
    "            brand = input(\"Enter the updated  brand:\")\n",
    "            model = input(\"Enter the updated model:\")\n",
    "            spec = input(\"Enter the updated specifications:\")\n",
    "            price = input(\"Enter the updated price:\")\n",
    "            availability = input(\"Enter the updated availability:\")\n",
    "            if len(product_sku) != 13:                \n",
    "                print(\"error\")\n",
    "                return\n",
    "            product_info = {'product_name': product_name,\n",
    "              'brand': brand,\n",
    "              'model': model,\n",
    "              'specifications': spec,\n",
    "              'price': price,\n",
    "              'availability': availability}\n",
    "            if update_product_details(product_details, sku, product_info)!= None:\n",
    "                display_product_details(product_details, sku)\n",
    "                print(\"The product details are updated successfully.\")\n",
    "            else:\n",
    "                pprint.pprint(\"sku does not exist\")\n",
    "        elif select_input == 3: \n",
    "            description = input(\"Enter the product description:\")\n",
    "            if update_product_description(product_description, sku, description)!= None:\n",
    "                update_product_description(product_description, sku, description)\n",
    "                print(\"The product description is updated successfully.\")\n",
    "            else:\n",
    "                pprint.pprint(\"sku does not exist\")\n",
    "        elif select_input == 4:\n",
    "            print(\"Exiting..\")\n",
    "            break "
   ]
  },
  {
   "cell_type": "code",
   "execution_count": 161,
   "id": "22636efc-eabb-4212-86d2-6e65e771400f",
   "metadata": {},
   "outputs": [
    {
     "name": "stdin",
     "output_type": "stream",
     "text": [
      "Enter the product SKU to update: CMWKCILOP27KJ\n"
     ]
    },
    {
     "name": "stdout",
     "output_type": "stream",
     "text": [
      "Select the data you want to update:\n",
      "1. Sales data\n",
      "2. Product details\n",
      "3. Product description\n",
      "4. Exit\n"
     ]
    },
    {
     "name": "stdin",
     "output_type": "stream",
     "text": [
      "Enter your choice (1-4):  1\n",
      "Enter sales data for the last 14 days, separated by space: 1 2 3 4 5 6 7 1 2 3 4 5 6 7\n"
     ]
    },
    {
     "name": "stdout",
     "output_type": "stream",
     "text": [
      "The sales data is updated successfully.\n",
      "Select the data you want to update:\n",
      "1. Sales data\n",
      "2. Product details\n",
      "3. Product description\n",
      "4. Exit\n"
     ]
    },
    {
     "name": "stdin",
     "output_type": "stream",
     "text": [
      "Enter your choice (1-4):  2\n",
      "Enter the updated product name: Zapdos Pokemon Card\n",
      "Enter the updated  brand: Pokemon\n",
      "Enter the updated model: GameFreak\n",
      "Enter the updated specifications: Holographic\n",
      "Enter the updated price: $6\n",
      "Enter the updated availability: Yes\n"
     ]
    },
    {
     "name": "stdout",
     "output_type": "stream",
     "text": [
      "The product details are updated successfully.\n",
      "Select the data you want to update:\n",
      "1. Sales data\n",
      "2. Product details\n",
      "3. Product description\n",
      "4. Exit\n"
     ]
    },
    {
     "name": "stdin",
     "output_type": "stream",
     "text": [
      "Enter your choice (1-4):  3\n",
      "Enter the product description: Super amazing nice Pokemon card\n"
     ]
    },
    {
     "name": "stdout",
     "output_type": "stream",
     "text": [
      "The product description is updated successfully.\n",
      "Select the data you want to update:\n",
      "1. Sales data\n",
      "2. Product details\n",
      "3. Product description\n",
      "4. Exit\n"
     ]
    },
    {
     "name": "stdin",
     "output_type": "stream",
     "text": [
      "Enter your choice (1-4):  4\n"
     ]
    },
    {
     "name": "stdout",
     "output_type": "stream",
     "text": [
      "Exiting..\n"
     ]
    }
   ],
   "source": [
    "update(product_details, sales_data, product_description)"
   ]
  },
  {
   "cell_type": "code",
   "execution_count": 162,
   "id": "94d8930e-054a-41e1-b448-089d445966d2",
   "metadata": {},
   "outputs": [],
   "source": [
    "def delete(sales_data, product_details, product_description, main_folder_address):\n",
    "    sku = input(\"Enter the SKU of the product to be deleted: \")\n",
    "\n",
    "    if sku in sales_data:\n",
    "        del sales_data[sku]\n",
    "    if sku in product_details:\n",
    "        del product_details[sku]\n",
    "    if sku in product_description:\n",
    "        del product_description[sku]\n",
    "\n",
    "    details_file = os.path.join(main_folder_address, \"product_details\", f\"product_details_{sku}.json\")\n",
    "    descriptions_file = os.path.join(main_folder_address, \"product_description\", f\"product_description_{sku}.txt\")\n",
    "\n",
    "    print(f\"Entries for SKU '{sku}' have been deleted successfully.\")\n",
    "    if os.path.exists(details_file):\n",
    "        os.remove(details_file)\n",
    "        print(f\"JSON file for SKU '{sku}' has been deleted successfully.\")\n",
    "    else:\n",
    "        print(f\"JSON file for SKU '{sku}' not found.\")\n",
    "\n",
    "    if os.path.exists(descriptions_file):\n",
    "        os.remove(descriptions_file)\n",
    "        print(f\"Text file for SKU '{sku}' has been deleted successfully.\")\n",
    "    else:\n",
    "        print(f\"Text file for SKU '{sku}' not found.\")\n",
    "\n",
    "    return sales_data, product_details, product_description"
   ]
  },
  {
   "cell_type": "code",
   "execution_count": 163,
   "id": "bd9bf0fd-0e7a-4a5f-965f-449b390eb6c2",
   "metadata": {},
   "outputs": [
    {
     "name": "stdin",
     "output_type": "stream",
     "text": [
      "Enter the SKU of the product to be deleted:  CMWKCILOP27KJ\n"
     ]
    },
    {
     "name": "stdout",
     "output_type": "stream",
     "text": [
      "Entries for SKU 'CMWKCILOP27KJ' have been deleted successfully.\n",
      "JSON file for SKU 'CMWKCILOP27KJ' not found.\n",
      "Text file for SKU 'CMWKCILOP27KJ' not found.\n"
     ]
    }
   ],
   "source": [
    "main_folder_address = \".\"\n",
    "updated_sales_data, updated_product_details, updated_product_descriptions = delete(sales_data, product_details, product_description, main_folder_address)"
   ]
  },
  {
   "cell_type": "code",
   "execution_count": 164,
   "id": "04034211-21ad-47ad-8f85-b87bf3eb8686",
   "metadata": {},
   "outputs": [],
   "source": [
    "def dump_data(sales_data, product_details, product_description, main_folder_address):\n",
    "    product_details_folder = os.path.join(main_folder_address, \"product_details\")\n",
    "    product_description_folder = os.path.join(main_folder_address, \"product_description\")\n",
    "\n",
    "    if os.path.exists(product_details_folder) == False:\n",
    "        os.makedirs(product_details_folder)\n",
    "    if os.path.exists(product_description_folder) == False:\n",
    "        os.makedirs(product_description_folder)\n",
    "    for keys in product_details.keys():\n",
    "        dict1 = product_details[keys]\n",
    "        myfile = \"product_details_\"+keys+\".json\"\n",
    "        myfile =  os.path.join(main_folder_address, \"product_details\", myfile)\n",
    "        # the json file where the output must be stored \n",
    "        out_file = open(myfile, \"w\") \n",
    "        json.dump(dict1, out_file, indent = 6)   \n",
    "        out_file.close() \n",
    "    for keys in product_description.keys():\n",
    "        text1 = product_description[keys]\n",
    "        myfile = \"product_description_\"+keys+\".txt\"\n",
    "        myfile =  os.path.join(main_folder_address, \"product_description\", myfile)\n",
    "        out_file = open(myfile, \"w\") \n",
    "        out_file.write(text1)\n",
    "        out_file.close() \n",
    "    sales_header = \"Product_SKU\"\n",
    "    Day = \",\".join([\"Day\"+str(i) for i in range(1,15)])\n",
    "    sales_header = sales_header+\",\" + Day+\"\\n\"\n",
    "    myfile = \"sales_data\"+\".csv\"\n",
    "    myfile =  os.path.join(main_folder_address, myfile)\n",
    "    out_file = open(myfile, \"w\") \n",
    "    out_file.writelines(sales_header)\n",
    "    out_file.close() \n",
    "    for keys in sales_data.keys():\n",
    "        sales_text = \",\".join([str(i) for i in sales_data[keys]])\n",
    "        sales_text = keys+\",\" + sales_text+\"\\n\"\n",
    "        myfile = \"sales_data\"+\".csv\"\n",
    "        myfile =  os.path.join(main_folder_address, myfile)\n",
    "        out_file = open(myfile, \"a\") \n",
    "        out_file.writelines(sales_text)\n",
    "        out_file.close() "
   ]
  },
  {
   "cell_type": "code",
   "execution_count": 165,
   "id": "41f6a681-d5c9-4ea1-9bb5-b66133479a32",
   "metadata": {},
   "outputs": [],
   "source": [
    "path = \".\\main_folder\"\n",
    "dump_data(sales_data, product_details, product_description, path)"
   ]
  },
  {
   "cell_type": "code",
   "execution_count": 172,
   "id": "a9711931-23f5-48bc-a16e-d614676ede03",
   "metadata": {},
   "outputs": [],
   "source": [
    "def user_menu(main_folder):\n",
    "    sales_data = load_file(\"sales_data.csv\")\n",
    "    product_details = load_file(\"product_details\")\n",
    "    product_description = load_file(\"product_description\")\n",
    "    user_input = \"\"\"Main Menu:\n",
    "    1. Create\n",
    "    2. Read\n",
    "    3. Update\n",
    "    4. Delete\n",
    "    5. Exit\"\"\"\n",
    "    \n",
    "    \n",
    "    while True:\n",
    "        print(user_input)\n",
    "        select_input = int(input(\"Enter your choice (1-5): \"))\n",
    "        if select_input == 1:\n",
    "            sales_data, product_details, product_description = create_product(sales_data, product_details,product_description)\n",
    "            path = main_folder\n",
    "            dump_data(sales_data, product_details, product_description, path)\n",
    "            print(\"All product information for the new product was added successfully!\")\n",
    "        elif select_input == 2:\n",
    "            read(product_details, sales_data, product_description)\n",
    "        elif select_input == 3:\n",
    "            update(product_details, sales_data, product_description)\n",
    "            print(\"The sales data is updated successfully!\")\n",
    "        elif select_input == 4:\n",
    "            main_folder_address = \".\"\n",
    "            delete(sales_data, product_details, product_description, main_folder)\n",
    "        elif select_input == 5:\n",
    "            print(\"Exiting..\")\n",
    "            break "
   ]
  },
  {
   "cell_type": "code",
   "execution_count": 173,
   "id": "28401c5b-f9b4-4223-a033-3c9ef75ed53b",
   "metadata": {},
   "outputs": [
    {
     "name": "stdout",
     "output_type": "stream",
     "text": [
      "Main Menu:\n",
      "    1. Create\n",
      "    2. Read\n",
      "    3. Update\n",
      "    4. Delete\n",
      "    5. Exit\n"
     ]
    },
    {
     "name": "stdin",
     "output_type": "stream",
     "text": [
      "Enter your choice (1-5):  1\n",
      "Enter the product SKU: CMWKCILOP27KO\n",
      "Enter sales data for the last 14 days, separated by space: 1 1 1 1 1 1 1 2 2 2 2 2 2 2\n",
      "Enter the product name: Magikarp Card\n",
      "Enter the brand: Pokemon\n",
      "Enter the model: GameFreak Holo\n",
      "Enter the specifications: Holographic Rare Card\n",
      "Enter the price: $4\n",
      "Enter the availability: Yes\n",
      "Enter the product description: Nice carp, I mean, card\n"
     ]
    },
    {
     "name": "stdout",
     "output_type": "stream",
     "text": [
      "All product information for the new product was added successfully!\n",
      "All product information for the new product was added successfully!\n",
      "Main Menu:\n",
      "    1. Create\n",
      "    2. Read\n",
      "    3. Update\n",
      "    4. Delete\n",
      "    5. Exit\n"
     ]
    },
    {
     "name": "stdin",
     "output_type": "stream",
     "text": [
      "Enter your choice (1-5):  2\n",
      "Enter the product SKU:  CMWKCILOP27KO\n"
     ]
    },
    {
     "name": "stdout",
     "output_type": "stream",
     "text": [
      "[1, 1, 1, 1, 1, 1, 1, 2, 2, 2, 2, 2, 2, 2]\n",
      "{'availability': 'Yes',\n",
      " 'brand': 'Pokemon',\n",
      " 'model': 'GameFreak Holo',\n",
      " 'price': '$4',\n",
      " 'product_name': 'Magikarp Card',\n",
      " 'specifications': 'Holographic Rare Card'}\n",
      "'Nice carp, I mean, card'\n",
      "Main Menu:\n",
      "    1. Create\n",
      "    2. Read\n",
      "    3. Update\n",
      "    4. Delete\n",
      "    5. Exit\n"
     ]
    },
    {
     "name": "stdin",
     "output_type": "stream",
     "text": [
      "Enter your choice (1-5):  3\n",
      "Enter the product SKU to update: CMWKCILOP27KO\n"
     ]
    },
    {
     "name": "stdout",
     "output_type": "stream",
     "text": [
      "Select the data you want to update:\n",
      "1. Sales data\n",
      "2. Product details\n",
      "3. Product description\n",
      "4. Exit\n"
     ]
    },
    {
     "name": "stdin",
     "output_type": "stream",
     "text": [
      "Enter your choice (1-4):  1\n",
      "Enter sales data for the last 14 days, separated by space: 1 1 1 1 1 1 1 0 0 0 0 0 0 0\n"
     ]
    },
    {
     "name": "stdout",
     "output_type": "stream",
     "text": [
      "The sales data is updated successfully.\n",
      "Select the data you want to update:\n",
      "1. Sales data\n",
      "2. Product details\n",
      "3. Product description\n",
      "4. Exit\n"
     ]
    },
    {
     "name": "stdin",
     "output_type": "stream",
     "text": [
      "Enter your choice (1-4):  4\n"
     ]
    },
    {
     "name": "stdout",
     "output_type": "stream",
     "text": [
      "Exiting..\n",
      "The sales data is updated successfully!\n",
      "Main Menu:\n",
      "    1. Create\n",
      "    2. Read\n",
      "    3. Update\n",
      "    4. Delete\n",
      "    5. Exit\n"
     ]
    },
    {
     "name": "stdin",
     "output_type": "stream",
     "text": [
      "Enter your choice (1-5):  4\n",
      "Enter the SKU of the product to be deleted:  CMWKCILOP27KO\n"
     ]
    },
    {
     "name": "stdout",
     "output_type": "stream",
     "text": [
      "Entries for SKU 'CMWKCILOP27KO' have been deleted successfully.\n",
      "JSON file for SKU 'CMWKCILOP27KO' has been deleted successfully.\n",
      "Text file for SKU 'CMWKCILOP27KO' has been deleted successfully.\n",
      "Main Menu:\n",
      "    1. Create\n",
      "    2. Read\n",
      "    3. Update\n",
      "    4. Delete\n",
      "    5. Exit\n"
     ]
    },
    {
     "name": "stdin",
     "output_type": "stream",
     "text": [
      "Enter your choice (1-5):  5\n"
     ]
    },
    {
     "name": "stdout",
     "output_type": "stream",
     "text": [
      "Exiting..\n"
     ]
    }
   ],
   "source": [
    "final_main_folder = \".\"\n",
    "user_menu(final_main_folder)"
   ]
  },
  {
   "cell_type": "code",
   "execution_count": null,
   "id": "b2540d02-01eb-474e-a970-8192168f70c9",
   "metadata": {},
   "outputs": [],
   "source": []
  }
 ],
 "metadata": {
  "kernelspec": {
   "display_name": "Python 3 (ipykernel)",
   "language": "python",
   "name": "python3"
  },
  "language_info": {
   "codemirror_mode": {
    "name": "ipython",
    "version": 3
   },
   "file_extension": ".py",
   "mimetype": "text/x-python",
   "name": "python",
   "nbconvert_exporter": "python",
   "pygments_lexer": "ipython3",
   "version": "3.11.7"
  }
 },
 "nbformat": 4,
 "nbformat_minor": 5
}
